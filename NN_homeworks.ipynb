{
 "cells": [
  {
   "cell_type": "markdown",
   "metadata": {},
   "source": [
    "1 užduotis\n",
    "Išanalizuoti dirbtinio neurono modelį ir jo veikimo principus. Sukurti dirbtinio neurono modelį. Į neuroną turi būti paduodamos įėjimų (input)reikšmės, nurodoma aktyvacijos funkcija (turi būti realizuota slenkstinė ir sigmoidinė). Neuronas turi paskaičiuoti išėjimo reikšmę (output). Programoje, kurioje keičiant svorių (𝑤1, 𝑤2) ir slenksčio (𝑤0) reikšmes, naudojant slenkstinę bei sigmoidinę aktyvacijos funkcijas, nustatomos tokios svorių ir slenksčio reikšmės, kad gautųsi pateikto klasifikatoriaus rezultatas."
   ]
  },
  {
   "cell_type": "markdown",
   "metadata": {},
   "source": [
    "# Imports"
   ]
  },
  {
   "cell_type": "code",
   "execution_count": 1,
   "metadata": {},
   "outputs": [],
   "source": [
    "import numpy as np\n",
    "import matplotlib.pyplot as plt\n",
    "%matplotlib inline "
   ]
  },
  {
   "cell_type": "markdown",
   "metadata": {},
   "source": [
    "# Defining the perceptron model"
   ]
  },
  {
   "cell_type": "code",
   "execution_count": 2,
   "metadata": {},
   "outputs": [],
   "source": [
    "# activation functions\n",
    "def sigmoid(suma: int):\n",
    "    return 1 / (1 + np.exp(-suma))\n",
    "\n",
    "\n",
    "def threshold(suma: int):\n",
    "    return 1 if suma > 0 else 0\n",
    "\n",
    "\n",
    "class Perceptron:\n",
    "\n",
    "    def __init__(self, no_of_inputs, learn_rate=1, max_iter=4):\n",
    "        self.weights = np.zeros(no_of_inputs + 1)\n",
    "        self.learn_rate = learn_rate\n",
    "        self.max_iter = max_iter\n",
    "\n",
    "    def _suma(self, data):\n",
    "        a = np.dot(data, self.weights)\n",
    "        return a\n",
    "\n",
    "    def _error(self, data, output, y, index):\n",
    "        \"\"\"Loss function (error) and updating weights\"\"\"\n",
    "        error = output[index] - y\n",
    "        if y != output[index]:\n",
    "            for j in range(len(self.weights)):\n",
    "                self.weights[j] += self.learn_rate * error * data[index][j]\n",
    "                \n",
    "    #perceptrono veikimo paklaida E(W) - skirtumu tarp neurono isejime \n",
    "    #gautu reiksmiu ir norimu reiksmiu sumos funkcija\n",
    "    def weightError(self, funkcija, data, data_outputs):\n",
    "        paklaidaE = 0\n",
    "        for i in range(len(data)):\n",
    "            paklaidaE += self.calculateOutput(funkcija, data, i) - data_outputs[i][0] \n",
    "        return paklaidaE\n",
    "\n",
    "    def train(self, func_type, data, output):\n",
    "        \"\"\"\n",
    "        func_type: int\n",
    "        type 0 if activation function is sigmoid, 1 - threshold\n",
    "        \"\"\"\n",
    "        for _ in range(self.max_iter):\n",
    "            for i in range(len(data)):\n",
    "                a = self._suma(data[i])\n",
    "                if func_type == 0:\n",
    "                    y = sigmoid(a)\n",
    "                else:\n",
    "                    y = threshold(a)\n",
    "                self._error(data, output, y, i)\n",
    "        print(\"Weights: \", self.weights)\n",
    "\n",
    "    #santykis tarp teisingai klasifikuotu ir visu duomenu\n",
    "    def precision(self, data, func_type, output):\n",
    "        trueOut = 0\n",
    "        for i in range(len(data)):\n",
    "            if int(round(self.calculateOutput(func_type,data,i))) == output[i][0]:\n",
    "                trueOut += 1\n",
    "        return trueOut / len(data)\n",
    "\n",
    "    def calculateOutput(self, func_type, data, row):\n",
    "        a = self._suma(data[row])\n",
    "        if func_type == 1:\n",
    "            return threshold(a)\n",
    "        else:\n",
    "            return sigmoid(a) #int(round(self.sigmoidine(a)[0]))"
   ]
  },
  {
   "cell_type": "raw",
   "metadata": {},
   "source": [
    "data = np.array([[1.0, -0.2, 0.5],\n",
    "                 [1.0, 0.2, -0.5],\n",
    "                 [1.0, 0.8, -0.8],\n",
    "                 [1.0, 0.8, 0.8]])\n",
    "data_outputs = np.array([[0, 0, 1, 1]]).T\n",
    "func_type = 0\n",
    "\n",
    "perceptron = Perceptron(2)\n",
    "perceptron.train(func_type, data, data_outputs)\n",
    "\n",
    "print(perceptron.calculateOutput(func_type, data,0))\n",
    "print(perceptron.calculateOutput(func_type, data,1))\n",
    "print(perceptron.calculateOutput(func_type, data,2))\n",
    "print(perceptron.calculateOutput(func_type, data,3))"
   ]
  },
  {
   "cell_type": "markdown",
   "metadata": {},
   "source": [
    "2 užduotis – apmokyti vieną neuroną spręsti nesudėtingą dviejų klasių uždavinį, atlikti tyrimą"
   ]
  },
  {
   "cell_type": "code",
   "execution_count": 3,
   "metadata": {
    "pycharm": {
     "is_executing": true,
     "name": "#%%\n"
    }
   },
   "outputs": [],
   "source": [
    "def binary_classification(class1, class2, inputDuomenys, func_type):\n",
    "    data = []\n",
    "    trainingData = []\n",
    "    testingData = []\n",
    "    count = 0\n",
    "    count2 = 0\n",
    "    for item in class1:\n",
    "        a = [float(i) for i in item.split(',')]\n",
    "        a.insert(0, 1.0)\n",
    "        data.append(a)\n",
    "        if count < 40:\n",
    "            trainingData.append(a)\n",
    "        if count >= 40:\n",
    "            testingData.append(a)\n",
    "        count += 1\n",
    "\n",
    "    for item2 in class2:\n",
    "        b = [float(j) for j in item2.split(',')]\n",
    "        b.insert(0, 1.0)\n",
    "        data.append(b)\n",
    "        if (inputDuomenys == 0 and count2 < 80) or (inputDuomenys == 1 and count2 < 40):\n",
    "            trainingData.append(b)\n",
    "        if (inputDuomenys == 0 and count2 >= 80) or (inputDuomenys == 1 and count2 >= 40):\n",
    "            testingData.append(b)\n",
    "        count2 += 1\n",
    "\n",
    "    if inputDuomenys == 0:\n",
    "        output1 = np.array([[0] * 40]).T\n",
    "        output2 = np.array([[1] * 80]).T\n",
    "        trainingOutput = np.concatenate((output1, output2))\n",
    "        output3 = np.array([[0] * 10]).T\n",
    "        output4 = np.array([[1] * 20]).T\n",
    "        testingOutput = np.concatenate((output3, output4))\n",
    "    if inputDuomenys == 1:\n",
    "        output1 = np.array([[0] * 40]).T\n",
    "        output2 = np.array([[1] * 40]).T\n",
    "        trainingOutput = np.concatenate((output1, output2))\n",
    "        output3 = np.array([[0] * 10]).T\n",
    "        output4 = np.array([[1] * 10]).T\n",
    "        testingOutput = np.concatenate((output3, output4))\n",
    "\n",
    "    perceptron = Perceptron(4)\n",
    "    perceptron.train(func_type, trainingData, trainingOutput)\n",
    "    print(\"paklaida:  \", perceptron.weightError(func_type, testingData, testingOutput))\n",
    "    print(\"tikslumas:  \", perceptron.precision(testingData, func_type, testingOutput))"
   ]
  },
  {
   "cell_type": "code",
   "execution_count": 5,
   "metadata": {},
   "outputs": [
    {
     "name": "stdout",
     "output_type": "stream",
     "text": [
      "Weights:  [-1.  -1.1 -3.6  5.2  2.2]\n",
      "paklaida:   0\n",
      "tikslumas:   1.0\n"
     ]
    }
   ],
   "source": [
    "    #nuskaitomi duomenys is failo\n",
    "    setosa = []\n",
    "    versicolor = []\n",
    "    virginica = []\n",
    "    versicolorVirginica = []\n",
    "\n",
    "    with open(\"iris.data\", 'r') as read_obj:\n",
    "        for line in read_obj:\n",
    "            if \"setosa\" in line:\n",
    "                setosa.append(line.replace(',Iris-setosa\\n', ''))\n",
    "            if \"versicolor\" in line:\n",
    "                versicolor.append(line.replace(',Iris-versicolor\\n', ''))\n",
    "            if \"virginica\" in line:\n",
    "                virginica.append(line.replace(',Iris-virginica\\n', ''))\n",
    "\n",
    "    #sudaroma versicolor-virginica klase\n",
    "    versicolorVirginica.append(versicolor)\n",
    "    versicolorVirginica.append(virginica)\n",
    "    versicolorVirginica = [j for i in versicolorVirginica for j in i]\n",
    "\n",
    "\n",
    "    inputDuomenys = 0\n",
    "    func_type = 1\n",
    "\n",
    "    if inputDuomenys == 0:\n",
    "        binary_classification(setosa, versicolorVirginica, inputDuomenys, func_type)\n",
    "    elif inputDuomenys == 1:\n",
    "        binary_classification(versicolor, virginica, inputDuomenys, func_type)\n",
    "    else: print(\"neteisingi duomenys\")"
   ]
  },
  {
   "cell_type": "code",
   "execution_count": null,
   "metadata": {},
   "outputs": [],
   "source": []
  }
 ],
 "metadata": {
  "kernelspec": {
   "display_name": "PyCharm (Skaitmeninis intelektas)",
   "language": "python",
   "name": "pycharm-f61c7e98"
  },
  "language_info": {
   "codemirror_mode": {
    "name": "ipython",
    "version": 3
   },
   "file_extension": ".py",
   "mimetype": "text/x-python",
   "name": "python",
   "nbconvert_exporter": "python",
   "pygments_lexer": "ipython3",
   "version": "3.8.8"
  }
 },
 "nbformat": 4,
 "nbformat_minor": 4
}